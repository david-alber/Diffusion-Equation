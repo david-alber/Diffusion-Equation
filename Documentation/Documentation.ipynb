{
 "cells": [
  {
   "cell_type": "markdown",
   "metadata": {},
   "source": [
    "# Documentation\n",
    "* 1) Input\n",
    "* 2) Output\n",
    "\n",
    "\n",
    "The following equation is taken under consideration and solved: \n",
    "\n",
    "$C(\\varphi(x,t))\\cdot\\rho\\frac{\\partial\\varphi(x,t)}{\\partial t} = \\frac{\\partial}{\\partial x}\\left(k(\\varphi(x,t))\\cdot\\frac{\\partial\\varphi(x,t)}{\\partial x}\\right) +S(x,t)$"
   ]
  },
  {
   "cell_type": "markdown",
   "metadata": {},
   "source": [
    "## Input\n",
    "The object gets initialized with the command `.heatpde()`.\n",
    "\n",
    "With the command `.getProperties()` the user can always see all current settings of the input parameters which are possible to be modified."
   ]
  },
  {
   "cell_type": "code",
   "execution_count": 2,
   "metadata": {},
   "outputs": [
    {
     "name": "stdout",
     "output_type": "stream",
     "text": [
      "xgrid  :  100\n",
      "length  :  1\n",
      "start_time  :  0\n",
      "final_time  :  3\n",
      "time_step  :  0.0005\n",
      "Left_BC_Type  :  0\n",
      "Right_BC_Type  :  0\n",
      "Left_BC  :  <function heatpde.__init__.<locals>.<lambda> at 0x000001B1BBDB59D8>\n",
      "Right_BC  :  <function heatpde.__init__.<locals>.<lambda> at 0x000001B1BBDB5AE8>\n",
      "init  :  0\n",
      "conductivity  :  <function heatpde.__init__.<locals>.<lambda> at 0x000001B1BBDB5B70>\n",
      "heatCapacity  :  <function heatpde.__init__.<locals>.<lambda> at 0x000001B1BBDB5BF8>\n",
      "source  :  1\n",
      "rho  :  1\n",
      "phi  :  False\n"
     ]
    }
   ],
   "source": [
    "from solpde import solpde\n",
    "h = solpde.heatpde()\n",
    "h.getProperties()# Default values"
   ]
  },
  {
   "cell_type": "markdown",
   "metadata": {},
   "source": [
    "* `xgrid` are the number of points which are taken into consideration for plotting on the space grid\n",
    "* `length` is the length of the x-space array: [0,length]\n",
    "* `start_time` is the starting point of the time array, also negative values are allowed\n",
    "* `final_time` is the end time of the time array\n",
    "* `time_step` are the timesteps taken into consideration for the *explicit Euler method* used\n",
    "* `Left_BC_Type` is the type of the left hand side boundary\n",
    "* `Right_BC_Type` is the type of the right hand side boundary\n",
    "    here two different settings are possible:` Left_BC_Type = 0` or `Left_BC_Type = 1` same for RHS\n",
    "    \n",
    "    Where 0 corresponds to *Dirichlet* boundary conditions, i.e. $\\varphi(x_0,t)=f(t)$ for the left side\n",
    "    or $\\varphi(x_N,t)=g(t)$ for the right side. \n",
    "    \n",
    "    if `_BC_Type = 1` the function is dealing with *Neumann* boundary conditions, i.e. $\\frac{\\varphi(x_0,t)}{k(\\varphi(x_0,t))= f(t)}$ for the left side \n",
    "    $\\frac{\\varphi(x_N,t)}{k(\\varphi(x_N,t))= g(t)}$ for the right side\n",
    "* `Left_BC` and `Right_BC` give a value to the boundary conditions\n",
    "    this can either be an arbitrary function of time (e.g.`= lambda t: a + b*t`) or a constant.\n",
    "* `init` is the inital value the material under consideration gets\n",
    "    it can either be an arbitrary function of space (e.g.`= lambda x: a + b*x`) or a constant.\n",
    "    \n",
    "* `conductivity` is the heat conductivity $k(\\varphi)$\n",
    "    it can either be an arbitrary function of $\\varphi$ (e.g.`= lambda phi: a + b*phi`) or a constant\n",
    "    \n",
    "* `heatCapacity` is the heat heatCapaciy $C(\\varphi)$\n",
    "   it can either be a polynom, up to third order (e.g.`= lambda phi: a + b*phi + c*phi**2 + d*phi**3`) or   a constant. \n",
    "   \n",
    "   Note, that reciprocals (`heatCapacity = lambda phi: a*1/phi`) are NOT allowed\n",
    "\n",
    "Also one has to note here, that if both, `conductivity` and `heatCapacity` are constant, NO source term can be implemented. \n",
    "If one wants to fix them to a constant value and still want consider some source term, one simply has to \n",
    "`conductivity = lambda phi:a + 0*phi` or `heatCapacity = lambda phi:a + 0*phi`, respecitvely.\n",
    "\n",
    "* `source` is the source term which brings energy to the system. \n",
    "    It needs to be some arbitrary function of space and time (e.g. `source = lambda x,t = a*x + b*t` )\n",
    "    All function types are allowed.\n",
    "    If one wants to fix it to a constant value, one simply has to `source = lambda x,t = a+ 0*x + 0*t`\n",
    "    \n",
    "* `rho` is the density of the probe. Mathematically it is not relevant. However it can be important to implement physical cases\n",
    "\n",
    "* `phi` is a property, which should NOT be changed, it is designed to avoid multiple computing and to save time\n",
    "\n",
    "\n",
    "\n",
    "   \n",
    "    \n",
    "    \n",
    "    "
   ]
  },
  {
   "cell_type": "markdown",
   "metadata": {},
   "source": [
    "### Change input properties\n",
    "In order to change input properties, the user can modify each property individually by calling assigning a different value to it."
   ]
  },
  {
   "cell_type": "code",
   "execution_count": 4,
   "metadata": {},
   "outputs": [
    {
     "name": "stdout",
     "output_type": "stream",
     "text": [
      "xgrid  :  20\n",
      "length  :  1\n",
      "start_time  :  0\n",
      "final_time  :  3\n",
      "time_step  :  0.0005\n",
      "Left_BC_Type  :  0\n",
      "Right_BC_Type  :  0\n",
      "Left_BC  :  <function heatpde.__init__.<locals>.<lambda> at 0x000001B1BBDB59D8>\n",
      "Right_BC  :  <function heatpde.__init__.<locals>.<lambda> at 0x000001B1BBDB5AE8>\n",
      "init  :  0\n",
      "conductivity  :  <function heatpde.__init__.<locals>.<lambda> at 0x000001B1BBDB5B70>\n",
      "heatCapacity  :  <function heatpde.__init__.<locals>.<lambda> at 0x000001B1BBDB5BF8>\n",
      "source  :  1\n",
      "rho  :  1\n",
      "phi  :  False\n"
     ]
    }
   ],
   "source": [
    "h.xgrid = 20\n",
    "h.getProperties()"
   ]
  },
  {
   "cell_type": "markdown",
   "metadata": {},
   "source": [
    "## Output\n",
    "\n",
    "For the output, there are 8 commands:\n",
    "\n",
    "* `h.getProperties()` showing the input parameters as just shown\n",
    "* `h.Temp()` giving back a matrix, which contains all the compuded information, i.e.($\\varphi(x,t)$) in space and time. This is useful if one wants to do data manipulation and plotting on his own.\n",
    "* `h.spaceVStime` showing a 2D contour plot of the dynamics (x-axis = space; y-axis = time; z-axis = temperature)\n",
    "* `h.surface()` a 3D surface plot of the dynamics (x-axis = space; y-axis = time; z-axis = temperature)\n",
    "* `h.surf_source()` showing a 3D surface plot of the inputsource (x-axis = space; y-axis = time; z-axis = temperature)\n",
    "* `h.animated(speed)` showing an animation of the dynamics. The entire spacegrid gets depicted and the animation continues in time. `speed` is a required input parameter, which allows a modulation of the speed of the animation\n",
    "* `single_point(point)` allows the user to select one point (`point`) in which the temperature is depicted along the entire time axis (x-axis = time; y-axis = $\\varphi(x_{point},t)$)\n",
    "* `single_time(time)` allows the user to select one snapshot in the time domain (`time`) in which the temperature is depicted along the entire x grid (x-axis = x-space; y-axis = $\\varphi(x,t_{time})$)\n"
   ]
  }
 ],
 "metadata": {
  "kernelspec": {
   "display_name": "Python 3",
   "language": "python",
   "name": "python3"
  },
  "language_info": {
   "codemirror_mode": {
    "name": "ipython",
    "version": 3
   },
   "file_extension": ".py",
   "mimetype": "text/x-python",
   "name": "python",
   "nbconvert_exporter": "python",
   "pygments_lexer": "ipython3",
   "version": "3.6.2"
  }
 },
 "nbformat": 4,
 "nbformat_minor": 2
}
